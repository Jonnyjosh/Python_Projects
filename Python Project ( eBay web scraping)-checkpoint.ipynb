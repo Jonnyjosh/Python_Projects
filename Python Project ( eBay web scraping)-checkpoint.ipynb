{
 "cells": [
  {
   "cell_type": "code",
   "execution_count": 1,
   "id": "02266d8b",
   "metadata": {},
   "outputs": [],
   "source": [
    "# Importing Libreries\n",
    "\n",
    "from bs4 import BeautifulSoup\n",
    "import requests\n",
    "import time \n",
    "import datetime\n",
    "\n",
    "\n",
    "import smtplib"
   ]
  },
  {
   "cell_type": "code",
   "execution_count": 2,
   "id": "318ccb6d",
   "metadata": {},
   "outputs": [
    {
     "name": "stdout",
     "output_type": "stream",
     "text": [
      "\n",
      "\n",
      "\n",
      "\n",
      "\n",
      "\n",
      "              Xiaomi Mi 11 Ultra 5G 6.81\" 256GB 512GB 50MP Snapdragon 888 IP68 5000mAh ByFedEx\n",
      "              \n",
      "\n",
      "\n",
      "\n",
      "\n",
      "\n",
      "\n",
      "                     US $967.49\n",
      "                    \n"
     ]
    }
   ],
   "source": [
    "# connecting to the website and getting data\n",
    "\n",
    "URL = 'https://www.ebay.com/itm/333942385416?hash=item4dc0846b08%3Ag%3AKHQAAOSw-8xgZaB5&_trkparms=%2526rpp_cid%253D62853e7caf1a4b0452797f2d&var=542995016263'\n",
    "\n",
    "\n",
    "headers = {\"User-Agent\": \"Mozilla/5.0 (Windows NT 10.0; Win64; x64) AppleWebKit/537.36 (KHTML, like Gecko) Chrome/102.0.0.0 Safari/537.36\", \n",
    "    \"X-Amzn-Trace-Id\": \"Root=1-62ab73b3-2f7cbc4007a8c38031cd45a1\"}\n",
    "\n",
    "\n",
    "page = requests.get(URL, headers=headers)\n",
    "\n",
    "# Bringing in the data\n",
    "\n",
    "soup1 = BeautifulSoup(page.content, \"html.parser\")\n",
    "\n",
    "soup2 = BeautifulSoup(soup1.prettify(), 'html.parser')\n",
    "\n",
    "\n",
    "title = soup2.find('h1', class_='x-item-title__mainTitle').get_text()\n",
    "\n",
    "price = soup2.find(id='prcIsum').get_text()\n",
    "\n",
    "\n",
    "print(title)\n",
    "print(price)"
   ]
  },
  {
   "cell_type": "code",
   "execution_count": 3,
   "id": "5c33e7be",
   "metadata": {},
   "outputs": [
    {
     "name": "stdout",
     "output_type": "stream",
     "text": [
      "Xiaomi Mi 11 Ultra 5G 6.81\" 256GB 512GB 50MP Snapdragon 888 IP68 5000mAh ByFedEx\n",
      "967.49\n"
     ]
    }
   ],
   "source": [
    "# Data cleaning\n",
    "\n",
    "price = price.strip()[4:]\n",
    "title = title.strip()\n",
    "\n",
    "print(title)\n",
    "print(price)"
   ]
  },
  {
   "cell_type": "code",
   "execution_count": 6,
   "id": "7dea4ec3",
   "metadata": {},
   "outputs": [
    {
     "name": "stdout",
     "output_type": "stream",
     "text": [
      "2022-06-17\n"
     ]
    }
   ],
   "source": [
    "# Make a Timestamp for your output to check when data was scraped\n",
    "\n",
    "import datetime\n",
    "\n",
    "today = datetime.date.today()\n",
    "\n",
    "print(today)"
   ]
  },
  {
   "cell_type": "code",
   "execution_count": 7,
   "id": "7dcb1742",
   "metadata": {},
   "outputs": [],
   "source": [
    "# Make a CSV file and write headers and data into the file\n",
    "\n",
    "import csv\n",
    "\n",
    "header = ['Title', 'Price', 'Date']\n",
    "data = [title, price, today]\n",
    "\n",
    "with open ('eBayWebScraped.csv', 'w', newline='', encoding='UTF8') as f:\n",
    "    writer = csv.writer(f)\n",
    "    writer.writerow(header)\n",
    "    writer.writerow(data)\n",
    "    "
   ]
  },
  {
   "cell_type": "code",
   "execution_count": 8,
   "id": "a22f0155",
   "metadata": {},
   "outputs": [
    {
     "name": "stdout",
     "output_type": "stream",
     "text": [
      "                                               Title   Price        Date\n",
      "0  Xiaomi Mi 11 Ultra 5G 6.81\" 256GB 512GB 50MP S...  967.49  2022-06-17\n"
     ]
    }
   ],
   "source": [
    "import pandas as pd\n",
    "\n",
    "df = pd.read_csv(r'C:\\Users\\USER\\eBayWebScraped.csv')\n",
    "\n",
    "print(df)"
   ]
  },
  {
   "cell_type": "code",
   "execution_count": null,
   "id": "f8c9a74a",
   "metadata": {},
   "outputs": [],
   "source": [
    "# Appending data to the csv file\n",
    "\n",
    "with open ('eBayWebScraped.csv', 'a+', newline='', encoding='UTF8') as f:\n",
    "    writer = csv.writer(f)\n",
    "    writer.writerow(data) "
   ]
  },
  {
   "cell_type": "code",
   "execution_count": 9,
   "id": "d462f98a",
   "metadata": {},
   "outputs": [],
   "source": [
    "# Jioning all of the above code into one function\n",
    "\n",
    "def check_price():\n",
    "    URL = 'https://www.ebay.com/itm/333942385416?hash=item4dc0846b08%3Ag%3AKHQAAOSw-8xgZaB5&_trkparms=%2526rpp_cid%253D62853e7caf1a4b0452797f2d&var=542995016263'\n",
    "\n",
    "\n",
    "    headers = {\"User-Agent\": \"Mozilla/5.0 (Windows NT 10.0; Win64; x64) AppleWebKit/537.36 (KHTML, like Gecko) Chrome/102.0.0.0 Safari/537.36\", \n",
    "    \"X-Amzn-Trace-Id\": \"Root=1-62ab73b3-2f7cbc4007a8c38031cd45a1\"}\n",
    "\n",
    "\n",
    "    page = requests.get(URL, headers=headers)\n",
    "\n",
    "    soup1 = BeautifulSoup(page.content, \"html.parser\")\n",
    "\n",
    "    soup2 = BeautifulSoup(soup1.prettify(), 'html.parser')\n",
    "\n",
    "\n",
    "    title = soup2.find('h1', class_='x-item-title__mainTitle').get_text()\n",
    "\n",
    "    price = soup2.find(id='prcIsum').get_text()\n",
    "    \n",
    "    price = price.strip()[4:]\n",
    "    title = title.strip()\n",
    "    \n",
    "    import datetime\n",
    "\n",
    "    today = datetime.date.today()\n",
    "\n",
    "    print(today)\n",
    "    \n",
    "    import csv\n",
    "\n",
    "    header = ['Title', 'Price', 'Date']\n",
    "    data = [title, price, today]\n",
    "    \n",
    "    with open ('eBayWebScraped.csv', 'a+', newline='', encoding='UTF8') as f:\n",
    "        writer = csv.writer(f)\n",
    "        writer.writerow(data)   "
   ]
  },
  {
   "cell_type": "code",
   "execution_count": null,
   "id": "59306792",
   "metadata": {},
   "outputs": [],
   "source": [
    "# Runs check_price after a specified time and inputs data into your CSV file\n",
    "\n",
    "while(True):\n",
    "    check_price()\n",
    "    time.sleep(86400)\n",
    "    "
   ]
  },
  {
   "cell_type": "code",
   "execution_count": null,
   "id": "1e2a53ff",
   "metadata": {},
   "outputs": [],
   "source": [
    "import pandas as pd\n",
    "\n",
    "df = pd.read_csv(r'C:\\Users\\USER\\eBayWebScraped.csv')\n",
    "\n",
    "print(df)"
   ]
  },
  {
   "cell_type": "code",
   "execution_count": null,
   "id": "aa9c0385",
   "metadata": {},
   "outputs": [],
   "source": [
    "# If you arevinterested in sending yourself an email when a price hits below a certain level you can try it out with this script\n",
    "\n",
    "def send_mail():\n",
    "    server = smtplib.SMTP_SSL('smtp.gmail.com',465)\n",
    "    server.ehlo()\n",
    "    #server.starttls()\n",
    "    server.ehlo()\n",
    "    server.login('joshmaninc@gmail.com','xxxxxxxxx')\n",
    "    \n",
    "    subject = \"The phone you want is below $500! Now is your chance to buy!\"\n",
    "    body = \"Josh, Now is your chance to pick up the phone of your dreams. Link here: https://www.ebay.com/itm/333942385416?hash=item4dc0846b08%3Ag%3AKHQAAOSw-8xgZaB5&_trkparms=%2526rpp_cid%253D62853e7caf1a4b0452797f2d&var=542995016263\"\n",
    "   \n",
    "    msg = f\"Subject: {subject}\\n\\n{body}\"\n",
    "    \n",
    "    server.sendmail(\n",
    "        'joshmaninc@gmail.com',\n",
    "        msg\n",
    "     \n",
    "    )"
   ]
  }
 ],
 "metadata": {
  "kernelspec": {
   "display_name": "Python 3 (ipykernel)",
   "language": "python",
   "name": "python3"
  },
  "language_info": {
   "codemirror_mode": {
    "name": "ipython",
    "version": 3
   },
   "file_extension": ".py",
   "mimetype": "text/x-python",
   "name": "python",
   "nbconvert_exporter": "python",
   "pygments_lexer": "ipython3",
   "version": "3.9.12"
  }
 },
 "nbformat": 4,
 "nbformat_minor": 5
}
